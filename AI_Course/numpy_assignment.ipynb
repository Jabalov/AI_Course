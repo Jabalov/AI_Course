{
 "cells": [
  {
   "cell_type": "markdown",
   "metadata": {},
   "source": [
    "# First Assignment: Numpy\n",
    "\n",
    "The NumPy library is the core library for scientific computing in Python. It provides a high-performance multidimensional array object, and tools for working with these arrays.\n",
    "\n",
    "Please follow this assignment through the following exercises to get familiar with numpy. It is a very interesting library. So, Take a deep breathe and let's start :)\n",
    "\n",
    "Let's import numpy as you learned and give it an alias as np. Write your code into the next cell. To run the following cell after writing your code, just press (Shift + Enter)."
   ]
  },
  {
   "cell_type": "code",
   "execution_count": 1,
   "metadata": {},
   "outputs": [
    {
     "data": {
      "text/plain": [
       "'1.14.3'"
      ]
     },
     "execution_count": 1,
     "metadata": {},
     "output_type": "execute_result"
    }
   ],
   "source": [
    "# expected a single line of code\n",
    "import numpy as np\n",
    "# end of code\n",
    "np.version.short_version"
   ]
  },
  {
   "cell_type": "markdown",
   "metadata": {},
   "source": [
    "If the version your installed numpy is just printed, then you are doing great. But if you saw an error, just try again or search google for how to import numpy as np."
   ]
  },
  {
   "cell_type": "markdown",
   "metadata": {},
   "source": [
    "### 1. Creating Arrays"
   ]
  },
  {
   "cell_type": "markdown",
   "metadata": {},
   "source": [
    "Now, Create an array with the following values [1, 2, 3] and name it as 'a'."
   ]
  },
  {
   "cell_type": "code",
   "execution_count": 2,
   "metadata": {},
   "outputs": [
    {
     "name": "stdout",
     "output_type": "stream",
     "text": [
      "a =  [1 2 3]\n"
     ]
    }
   ],
   "source": [
    "# write your code here (~ 1 line of code)\n",
    "a = np.array([1, 2, 3])\n",
    "#end of code\n",
    "print('a = ', a)"
   ]
  },
  {
   "cell_type": "markdown",
   "metadata": {},
   "source": [
    "Create a 2D array of shape (4,5) with arbitrary integer entries."
   ]
  },
  {
   "cell_type": "code",
   "execution_count": 10,
   "metadata": {},
   "outputs": [
    {
     "name": "stdout",
     "output_type": "stream",
     "text": [
      "b = \n",
      " [[1 2 3 4 5]\n",
      " [1 2 3 4 5]\n",
      " [1 2 3 4 5]\n",
      " [1 2 3 4 5]]\n"
     ]
    }
   ],
   "source": [
    "# write your code here (~ 1 line of code)\n",
    "b = np.array([[1,2,3,4,5], [1,2,3,4,5], [1,2,3,4,5], [1,2,3,4,5]])\n",
    "#end of code\n",
    "print('b = \\n', b)"
   ]
  },
  {
   "cell_type": "markdown",
   "metadata": {},
   "source": [
    "Create a 3D array with arbitrary floaing point input and set the array data type into float."
   ]
  },
  {
   "cell_type": "code",
   "execution_count": 23,
   "metadata": {},
   "outputs": [
    {
     "name": "stdout",
     "output_type": "stream",
     "text": [
      "c = \n",
      " [[[0. 0. 0.]\n",
      "  [0. 0. 0.]\n",
      "  [0. 0. 0.]]\n",
      "\n",
      " [[0. 0. 0.]\n",
      "  [0. 0. 0.]\n",
      "  [0. 0. 0.]]]\n"
     ]
    }
   ],
   "source": [
    "# write your code here (~ 1 line of code)\n",
    "c = np.zeros((2,3,3))\n",
    "#end of code\n",
    "print('c = \\n', c)"
   ]
  },
  {
   "cell_type": "markdown",
   "metadata": {},
   "source": [
    "Create an array of zeros with shape of (3,4)"
   ]
  },
  {
   "cell_type": "code",
   "execution_count": 28,
   "metadata": {},
   "outputs": [
    {
     "name": "stdout",
     "output_type": "stream",
     "text": [
      "z = \n",
      " [[0. 0. 0. 0.]\n",
      " [0. 0. 0. 0.]\n",
      " [0. 0. 0. 0.]]\n"
     ]
    }
   ],
   "source": [
    "# write your code here (~ 1 line of code)\n",
    "z = np.zeros((3,4))\n",
    "#end of code\n",
    "print('z = \\n', z)"
   ]
  },
  {
   "cell_type": "markdown",
   "metadata": {},
   "source": [
    "Create an array of ones with shape of (5,4)"
   ]
  },
  {
   "cell_type": "code",
   "execution_count": 30,
   "metadata": {},
   "outputs": [
    {
     "name": "stdout",
     "output_type": "stream",
     "text": [
      "o = \n",
      " [[1. 1. 1. 1.]\n",
      " [1. 1. 1. 1.]\n",
      " [1. 1. 1. 1.]\n",
      " [1. 1. 1. 1.]\n",
      " [1. 1. 1. 1.]]\n"
     ]
    }
   ],
   "source": [
    "# write your code here (~ 1 line of code)\n",
    "o = np.ones((5,4))\n",
    "#end of code\n",
    "print('o = \\n', o)"
   ]
  },
  {
   "cell_type": "markdown",
   "metadata": {},
   "source": [
    "Create an array of 7's with shape of (9,7)"
   ]
  },
  {
   "cell_type": "code",
   "execution_count": 32,
   "metadata": {},
   "outputs": [
    {
     "name": "stdout",
     "output_type": "stream",
     "text": [
      "const = \n",
      " [[7. 7. 7. 7. 7. 7. 7.]\n",
      " [7. 7. 7. 7. 7. 7. 7.]\n",
      " [7. 7. 7. 7. 7. 7. 7.]\n",
      " [7. 7. 7. 7. 7. 7. 7.]\n",
      " [7. 7. 7. 7. 7. 7. 7.]\n",
      " [7. 7. 7. 7. 7. 7. 7.]\n",
      " [7. 7. 7. 7. 7. 7. 7.]\n",
      " [7. 7. 7. 7. 7. 7. 7.]\n",
      " [7. 7. 7. 7. 7. 7. 7.]]\n"
     ]
    }
   ],
   "source": [
    "# write your code here (~ 1 line of code)\n",
    "const = np.ones((9,7)) *7\n",
    "#end of code\n",
    "print('const = \\n', const)"
   ]
  },
  {
   "cell_type": "markdown",
   "metadata": {},
   "source": [
    "Create 4 x 4 identity matrix"
   ]
  },
  {
   "cell_type": "code",
   "execution_count": 34,
   "metadata": {},
   "outputs": [
    {
     "name": "stdout",
     "output_type": "stream",
     "text": [
      "i = \n",
      " [[1. 0. 0. 0.]\n",
      " [0. 1. 0. 0.]\n",
      " [0. 0. 1. 0.]\n",
      " [0. 0. 0. 1.]]\n"
     ]
    }
   ],
   "source": [
    "# write your code here (~ 1 line of code)\n",
    "i = np.eye(4)\n",
    "#end of code\n",
    "print('i = \\n', i)"
   ]
  },
  {
   "cell_type": "markdown",
   "metadata": {},
   "source": [
    "Create an array of shape (4,5)  with radom entries "
   ]
  },
  {
   "cell_type": "code",
   "execution_count": 113,
   "metadata": {},
   "outputs": [
    {
     "name": "stdout",
     "output_type": "stream",
     "text": [
      "r = \n",
      " [[ 1.38929058  1.80730647  1.00146972 -1.69803038 -2.01050893]\n",
      " [-0.56845801  0.95160039  0.24338586 -1.41281285 -0.39722562]\n",
      " [ 1.99804627 -0.94393919  0.63238182 -1.25188772  0.0833394 ]\n",
      " [ 1.51049691  0.47203351  0.80153071  0.42882538 -0.86378836]]\n"
     ]
    }
   ],
   "source": [
    "# write your code here (~ 1 line of code)\n",
    "r = np.random.randn(4,5)\n",
    "#end of code\n",
    "print('r = \\n', r)"
   ]
  },
  {
   "cell_type": "markdown",
   "metadata": {},
   "source": [
    "### 2. Inspecting your array"
   ]
  },
  {
   "cell_type": "markdown",
   "metadata": {},
   "source": [
    "Print the dimentions of array (a)"
   ]
  },
  {
   "cell_type": "code",
   "execution_count": 116,
   "metadata": {},
   "outputs": [
    {
     "name": "stdout",
     "output_type": "stream",
     "text": [
      "dim (shape) of a =  (3,)\n"
     ]
    }
   ],
   "source": [
    "# write your code here (~ 1 line of code)\n",
    "dim = np.shape(a)\n",
    "#end of code\n",
    "print('dim (shape) of a = ', dim)"
   ]
  },
  {
   "cell_type": "markdown",
   "metadata": {},
   "source": [
    "Print the number of dimentions of array (b)"
   ]
  },
  {
   "cell_type": "code",
   "execution_count": 48,
   "metadata": {},
   "outputs": [
    {
     "name": "stdout",
     "output_type": "stream",
     "text": [
      "number of dim of b =  (4, 5)\n"
     ]
    }
   ],
   "source": [
    "# write your code here (~ 1 line of code)\n",
    "dim_num = np.shape(b)\n",
    "#end of code\n",
    "print('number of dim of b = ', dim_num)"
   ]
  },
  {
   "cell_type": "markdown",
   "metadata": {},
   "source": [
    "Print the data type of elements in array c"
   ]
  },
  {
   "cell_type": "code",
   "execution_count": 83,
   "metadata": {},
   "outputs": [
    {
     "name": "stdout",
     "output_type": "stream",
     "text": [
      "data type of elements in array c is  float64\n"
     ]
    }
   ],
   "source": [
    "# write your code here (~ 1 line of code)\n",
    "dtype = c.dtype\n",
    "#end of code\n",
    "print('data type of elements in array c is ', dtype)"
   ]
  },
  {
   "cell_type": "markdown",
   "metadata": {},
   "source": [
    "Print the number of elements in array i"
   ]
  },
  {
   "cell_type": "code",
   "execution_count": 77,
   "metadata": {},
   "outputs": [
    {
     "name": "stdout",
     "output_type": "stream",
     "text": [
      "number of elements in array i =  16\n"
     ]
    }
   ],
   "source": [
    "# write your code here (~ 1 line of code)\n",
    "elements_num = np.size(i)\n",
    "#end of code\n",
    "print('number of elements in array i = ', elements_num)"
   ]
  },
  {
   "cell_type": "markdown",
   "metadata": {},
   "source": [
    "Convert the array named const from int into float"
   ]
  },
  {
   "cell_type": "code",
   "execution_count": 89,
   "metadata": {},
   "outputs": [
    {
     "name": "stdout",
     "output_type": "stream",
     "text": [
      "const =  float64\n"
     ]
    }
   ],
   "source": [
    "# write your code here (~ 1 line of code)\n",
    "const = const.astype(float)\n",
    "#end of code\n",
    "print('const = ', const.dtype)"
   ]
  },
  {
   "cell_type": "markdown",
   "metadata": {},
   "source": [
    "### 3. Array Mathematics"
   ]
  },
  {
   "cell_type": "markdown",
   "metadata": {},
   "source": [
    "Subtract b from r"
   ]
  },
  {
   "cell_type": "code",
   "execution_count": 118,
   "metadata": {},
   "outputs": [
    {
     "name": "stdout",
     "output_type": "stream",
     "text": [
      "g = r - b = \n",
      " [[ 0.38929058 -0.19269353 -1.99853028 -5.69803038 -7.01050893]\n",
      " [-1.56845801 -1.04839961 -2.75661414 -5.41281285 -5.39722562]\n",
      " [ 0.99804627 -2.94393919 -2.36761818 -5.25188772 -4.9166606 ]\n",
      " [ 0.51049691 -1.52796649 -2.19846929 -3.57117462 -5.86378836]]\n"
     ]
    }
   ],
   "source": [
    "# write your code here (~ 1 line of code)\n",
    "g = r - b\n",
    "#end of code\n",
    "print('g = r - b = \\n', g)"
   ]
  },
  {
   "cell_type": "markdown",
   "metadata": {},
   "source": [
    "Add b + r"
   ]
  },
  {
   "cell_type": "code",
   "execution_count": 120,
   "metadata": {},
   "outputs": [
    {
     "name": "stdout",
     "output_type": "stream",
     "text": [
      "s = b + r =  [[2.38929058 3.80730647 4.00146972 2.30196962 2.98949107]\n",
      " [0.43154199 2.95160039 3.24338586 2.58718715 4.60277438]\n",
      " [2.99804627 1.05606081 3.63238182 2.74811228 5.0833394 ]\n",
      " [2.51049691 2.47203351 3.80153071 4.42882538 4.13621164]]\n"
     ]
    }
   ],
   "source": [
    "# write your code here (~ 1 line of code)\n",
    "s = b + r\n",
    "#end of code\n",
    "print('s = b + r = ', s)"
   ]
  },
  {
   "cell_type": "markdown",
   "metadata": {},
   "source": [
    "Multiply b by r (element wise multiplication)"
   ]
  },
  {
   "cell_type": "code",
   "execution_count": 122,
   "metadata": {},
   "outputs": [
    {
     "name": "stdout",
     "output_type": "stream",
     "text": [
      "m = b * r = \n",
      " [[  1.38929058   3.61461295   3.00440916  -6.7921215  -10.05254465]\n",
      " [ -0.56845801   1.90320077   0.73015758  -5.6512514   -1.98612809]\n",
      " [  1.99804627  -1.88787839   1.89714545  -5.00755088   0.41669699]\n",
      " [  1.51049691   0.94406701   2.40459212   1.7153015   -4.31894179]]\n"
     ]
    }
   ],
   "source": [
    "# write your code here (~ 1 line of code)\n",
    "m = r * b\n",
    "#end of code\n",
    "print('m = b * r = \\n', m)"
   ]
  },
  {
   "cell_type": "markdown",
   "metadata": {},
   "source": [
    "Divide r by b (element wise divition)"
   ]
  },
  {
   "cell_type": "code",
   "execution_count": 124,
   "metadata": {},
   "outputs": [
    {
     "name": "stdout",
     "output_type": "stream",
     "text": [
      "d = r / b = \n",
      " [[ 1.38929058  0.90365324  0.33382324 -0.42450759 -0.40210179]\n",
      " [-0.56845801  0.47580019  0.08112862 -0.35320321 -0.07944512]\n",
      " [ 1.99804627 -0.4719696   0.21079394 -0.31297193  0.01666788]\n",
      " [ 1.51049691  0.23601675  0.2671769   0.10720634 -0.17275767]]\n"
     ]
    }
   ],
   "source": [
    "# write your code here (~ 1 line of code)\n",
    "d = r / b\n",
    "#end of code\n",
    "print('d = r / b = \\n', d)"
   ]
  },
  {
   "cell_type": "markdown",
   "metadata": {},
   "source": [
    "### 4. Comparison"
   ]
  },
  {
   "cell_type": "markdown",
   "metadata": {},
   "source": [
    "Find elements where b(i) == r(i)"
   ]
  },
  {
   "cell_type": "code",
   "execution_count": 126,
   "metadata": {},
   "outputs": [
    {
     "name": "stdout",
     "output_type": "stream",
     "text": [
      "elements where b = r are  []\n"
     ]
    }
   ],
   "source": [
    "# write your code here (~ 1 line of code)\n",
    "res_bool = (b == r)\n",
    "#end of code\n",
    "print('elements where b = r are ', b[res_bool])"
   ]
  },
  {
   "cell_type": "markdown",
   "metadata": {},
   "source": [
    "Find elements in c where c(i) < 3"
   ]
  },
  {
   "cell_type": "code",
   "execution_count": 130,
   "metadata": {},
   "outputs": [
    {
     "name": "stdout",
     "output_type": "stream",
     "text": [
      "elements in c that are less than 3 are \n",
      " [[[[0. 0. 0.]\n",
      "   [0. 0. 0.]\n",
      "   [0. 0. 0.]]\n",
      "\n",
      "  [[0. 0. 0.]\n",
      "   [0. 0. 0.]\n",
      "   [0. 0. 0.]]]]\n"
     ]
    }
   ],
   "source": [
    "# write your code here (~ 2 line of code)\n",
    "res_bool = (c < 3)\n",
    "print('elements in c that are less than 3 are \\n', c[None])\n",
    "#end of code"
   ]
  },
  {
   "cell_type": "markdown",
   "metadata": {},
   "source": [
    "### 5. Aggregate Functions"
   ]
  },
  {
   "cell_type": "markdown",
   "metadata": {},
   "source": [
    "Find sum of a"
   ]
  },
  {
   "cell_type": "code",
   "execution_count": 131,
   "metadata": {},
   "outputs": [
    {
     "name": "stdout",
     "output_type": "stream",
     "text": [
      "sum of a =  6\n"
     ]
    }
   ],
   "source": [
    "# write your code here (~ 1 line of code)\n",
    "s = sum(a)\n",
    "#end of code\n",
    "print('sum of a = ', s)"
   ]
  },
  {
   "cell_type": "markdown",
   "metadata": {},
   "source": [
    "Find min of b"
   ]
  },
  {
   "cell_type": "code",
   "execution_count": 134,
   "metadata": {},
   "outputs": [
    {
     "name": "stdout",
     "output_type": "stream",
     "text": [
      "min of b =  1\n"
     ]
    }
   ],
   "source": [
    "# write your code here (~ 1 line of code)\n",
    "m = np.min(b)\n",
    "#end of code\n",
    "print('min of b = ', m)"
   ]
  },
  {
   "cell_type": "markdown",
   "metadata": {},
   "source": [
    "Find max of c"
   ]
  },
  {
   "cell_type": "code",
   "execution_count": 135,
   "metadata": {},
   "outputs": [
    {
     "name": "stdout",
     "output_type": "stream",
     "text": [
      "max of c =  0.0\n"
     ]
    }
   ],
   "source": [
    "# write your code here (~ 1 line of code)\n",
    "m = np.max(c)\n",
    "#end of code\n",
    "print('max of c = ', m)"
   ]
  },
  {
   "cell_type": "markdown",
   "metadata": {},
   "source": [
    "Find mean of r"
   ]
  },
  {
   "cell_type": "code",
   "execution_count": 136,
   "metadata": {},
   "outputs": [
    {
     "name": "stdout",
     "output_type": "stream",
     "text": [
      "mean of r =  0.10865279707744402\n"
     ]
    }
   ],
   "source": [
    "# write your code here (~ 1 line of code)\n",
    "m = np.mean(r)\n",
    "#end of code\n",
    "print('mean of r = ', m)"
   ]
  },
  {
   "cell_type": "markdown",
   "metadata": {},
   "source": [
    "Find stadard deviation of r"
   ]
  },
  {
   "cell_type": "code",
   "execution_count": 137,
   "metadata": {},
   "outputs": [
    {
     "name": "stdout",
     "output_type": "stream",
     "text": [
      "std of r =  1.1675765251535788\n"
     ]
    }
   ],
   "source": [
    "# write your code here (~ 1 line of code)\n",
    "s = np.std(r)\n",
    "#end of code\n",
    "print('std of r = ', s)"
   ]
  },
  {
   "cell_type": "markdown",
   "metadata": {},
   "source": [
    "Coppy array a into aa"
   ]
  },
  {
   "cell_type": "code",
   "execution_count": 139,
   "metadata": {},
   "outputs": [
    {
     "name": "stdout",
     "output_type": "stream",
     "text": [
      "correctly coppied\n"
     ]
    }
   ],
   "source": [
    "# write your code here (~ 1 line of code)\n",
    "aa = np.copy(a)\n",
    "#end of code\n",
    "aa *= 2\n",
    "print('Wrong trial. Please try again') if np.array_equal(a, aa) else print('correctly coppied')"
   ]
  },
  {
   "cell_type": "markdown",
   "metadata": {},
   "source": [
    "Sort array a"
   ]
  },
  {
   "cell_type": "code",
   "execution_count": 141,
   "metadata": {},
   "outputs": [
    {
     "name": "stdout",
     "output_type": "stream",
     "text": [
      "a =  [1 2 3]\n"
     ]
    }
   ],
   "source": [
    "# write your code here (~ 1 line of code)\n",
    "a = np.sort(a)\n",
    "#end of code\n",
    "print('a = ', a) "
   ]
  },
  {
   "cell_type": "markdown",
   "metadata": {},
   "source": [
    "Sort the elements of array's axis 0 (array a)"
   ]
  },
  {
   "cell_type": "code",
   "execution_count": 142,
   "metadata": {},
   "outputs": [
    {
     "name": "stdout",
     "output_type": "stream",
     "text": [
      "a =  [1 2 3]\n"
     ]
    }
   ],
   "source": [
    "# write your code here (~ 1 line of code)\n",
    "a = np.sort(a, axis=0)\n",
    "#end of code\n",
    "print('a = ', a)"
   ]
  },
  {
   "cell_type": "markdown",
   "metadata": {},
   "source": [
    "### 6. Subsetting, Slicing, Indexing"
   ]
  },
  {
   "cell_type": "markdown",
   "metadata": {},
   "source": [
    "Change the all values of second column of b into 6"
   ]
  },
  {
   "cell_type": "code",
   "execution_count": 145,
   "metadata": {},
   "outputs": [
    {
     "name": "stdout",
     "output_type": "stream",
     "text": [
      "b = \n",
      " [[1 2 3 4 5]\n",
      " [6 6 6 6 6]\n",
      " [6 6 6 6 6]\n",
      " [1 2 3 4 5]]\n"
     ]
    }
   ],
   "source": [
    "# write your code here (~ 1 line of code)\n",
    "b[1, :] = 6\n",
    "#end of code\n",
    "print('b = \\n', b)"
   ]
  },
  {
   "cell_type": "markdown",
   "metadata": {},
   "source": [
    "Change the first two elements of second column of b into 16"
   ]
  },
  {
   "cell_type": "code",
   "execution_count": 147,
   "metadata": {},
   "outputs": [
    {
     "name": "stdout",
     "output_type": "stream",
     "text": [
      "b = \n",
      " [[ 1  2  3  4  5]\n",
      " [16 16  6  6  6]\n",
      " [ 6  6  6  6  6]\n",
      " [ 1  2  3  4  5]]\n"
     ]
    }
   ],
   "source": [
    "# write your code here (~ 1 line of code)\n",
    "b[1,0:2] = 16\n",
    "#end of code\n",
    "print('b = \\n', b)"
   ]
  },
  {
   "cell_type": "markdown",
   "metadata": {},
   "source": [
    "Change every 4 of r (if any) into 40"
   ]
  },
  {
   "cell_type": "code",
   "execution_count": 174,
   "metadata": {},
   "outputs": [
    {
     "name": "stdout",
     "output_type": "stream",
     "text": [
      "r = \n",
      " [[ 1.38929058  1.80730647  1.00146972 -1.69803038 -2.01050893]\n",
      " [-0.56845801  0.95160039  0.24338586 -1.41281285 -0.39722562]\n",
      " [ 1.99804627 -0.94393919  0.63238182 -1.25188772  0.0833394 ]\n",
      " [ 1.51049691  0.47203351  0.80153071  0.42882538 -0.86378836]]\n"
     ]
    }
   ],
   "source": [
    "# write your code here (~ 1 line of code)\n",
    "i = np.where(r==4); r[i]=40\n",
    "#end of code\n",
    "print('r = \\n', r)"
   ]
  },
  {
   "cell_type": "markdown",
   "metadata": {},
   "source": [
    "### 7. Array Manipulation"
   ]
  },
  {
   "cell_type": "markdown",
   "metadata": {},
   "source": [
    "Find traspose of b"
   ]
  },
  {
   "cell_type": "code",
   "execution_count": 50,
   "metadata": {},
   "outputs": [
    {
     "name": "stdout",
     "output_type": "stream",
     "text": [
      "transpose of b =  [[1 1 1 1]\n",
      " [2 2 2 2]\n",
      " [3 3 3 3]\n",
      " [4 4 4 4]\n",
      " [5 5 5 5]]\n"
     ]
    }
   ],
   "source": [
    "# write your code here (~ 1 line of code)\n",
    "b_trans = b.T\n",
    "#end of code\n",
    "print('transpose of b = ', b_trans)"
   ]
  },
  {
   "cell_type": "markdown",
   "metadata": {},
   "source": [
    "Flatten the array c"
   ]
  },
  {
   "cell_type": "code",
   "execution_count": 177,
   "metadata": {},
   "outputs": [
    {
     "name": "stdout",
     "output_type": "stream",
     "text": [
      "c (flat) =  [0. 0. 0. 0. 0. 0. 0. 0. 0. 0. 0. 0. 0. 0. 0. 0. 0. 0.]\n"
     ]
    }
   ],
   "source": [
    "# write your code here (~ 1 line of code)\n",
    "c_flat = c.flatten()\n",
    "#end of code\n",
    "print('c (flat) = ', c_flat)"
   ]
  },
  {
   "cell_type": "markdown",
   "metadata": {},
   "source": [
    "Append r into b"
   ]
  },
  {
   "cell_type": "code",
   "execution_count": 181,
   "metadata": {},
   "outputs": [
    {
     "name": "stdout",
     "output_type": "stream",
     "text": [
      " New b = \n",
      " [ 1.          2.          3.          4.          5.         16.\n",
      " 16.          6.          6.          6.          6.          6.\n",
      "  6.          6.          6.          1.          2.          3.\n",
      "  4.          5.          1.38929058  1.80730647  1.00146972 -1.69803038\n",
      " -2.01050893 -0.56845801  0.95160039  0.24338586 -1.41281285 -0.39722562\n",
      "  1.99804627 -0.94393919  0.63238182 -1.25188772  0.0833394   1.51049691\n",
      "  0.47203351  0.80153071  0.42882538 -0.86378836]\n"
     ]
    }
   ],
   "source": [
    "# write your code here (~ 1 line of code)\n",
    "b_new = np.append(b,r)\n",
    "#end of code\n",
    "print(' New b = \\n', b_new)"
   ]
  },
  {
   "cell_type": "markdown",
   "metadata": {},
   "source": [
    "Congratulations ! You did it :)"
   ]
  }
 ],
 "metadata": {
  "kernelspec": {
   "display_name": "Python 3",
   "language": "python",
   "name": "python3"
  },
  "language_info": {
   "codemirror_mode": {
    "name": "ipython",
    "version": 3
   },
   "file_extension": ".py",
   "mimetype": "text/x-python",
   "name": "python",
   "nbconvert_exporter": "python",
   "pygments_lexer": "ipython3",
   "version": "3.6.5"
  }
 },
 "nbformat": 4,
 "nbformat_minor": 2
}
